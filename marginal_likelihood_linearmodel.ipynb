{
 "cells": [
  {
   "cell_type": "markdown",
   "metadata": {},
   "source": [
    "# Marginal likelihood of linear regression\n",
    "\n",
    "I am trying to see whether TI gives the same marg likelihood as Analytical. The model is\n",
    "$$y = ax +m + \\epsilon$$\n",
    "\n",
    "$\\epsilon\\sim\\mathcal{N}(0,1)$ and the priors are $a\\sim \\mathcal{N}(2,1)$ and $m\\sim \\mathcal{N}(3,1)$.\n",
    "\n",
    "$x=(1,2,\\ldots,20)$\n",
    "\n",
    "We can write this in matrix form as \n",
    "$$Y=X\\beta + \\boldsymbol{\\epsilon}$$, where $X=\\begin{bmatrix} x_1 &1 \\\\ \\vdots & \\vdots \\\\ x_{20} & 1\\end{bmatrix}$\n",
    "and $\\beta=[a,m]^T$. the bivariate Gaussian prior is then $\\mathcal{N}(\\hat{\\beta},C_{uu})=\\mathcal{N}([2,3],diag(1,1))$\n",
    "\n",
    "According to [this paper](https://agupubs.onlinelibrary.wiley.com/doi/epdf/10.1002/2014WR016062) the analytical likelihood is $p(Y) = \\mathcal{N}(Y|X\\hat{\\beta},C_{yy} +R)$, where $C_{yy}=X C_{uu} X^T$. $R$ is the diagonal noise covariance, which in this problem is identity, thus $R=\\mathbb{I}$.\n",
    "\n",
    "## Thermodynamic Integration Formula\n",
    "\n",
    "We write the Expected log likelihood of a heated chain $j$, with temperatures $0<t(j)<1$, as\n",
    "$$ y(j) = 1/Ns\\sum_{i=1}^{Ns} t(j)\\log p(Y|X,\\beta_{i})$$, where $Ns$ is the number of post-burnin (amd thinned) samples.\n",
    "\n",
    "The marginal likelihood is then given by\n",
    "$$p(Y)=\\exp\\Bigg(\\sum_{j=2}^{J}\\Big( \\frac{y(j)+y(j-1)}{2}\\Big)\\big(t(j)-t(j-1)\\big)\\Bigg)$$, where $J$ is the number of chains."
   ]
  },
  {
   "cell_type": "code",
   "execution_count": 5,
   "metadata": {},
   "outputs": [
    {
     "name": "stdout",
     "output_type": "stream",
     "text": [
      "/BSU/linux/anaconda3/bin/python\r\n"
     ]
    }
   ],
   "source": [
    "!which python"
   ]
  },
  {
   "cell_type": "code",
   "execution_count": 6,
   "metadata": {},
   "outputs": [
    {
     "ename": "ModuleNotFoundError",
     "evalue": "No module named 'pints'",
     "output_type": "error",
     "traceback": [
      "\u001b[0;31m---------------------------------------------------------------------------\u001b[0m",
      "\u001b[0;31mModuleNotFoundError\u001b[0m                       Traceback (most recent call last)",
      "\u001b[0;32m<ipython-input-6-59b058af4e77>\u001b[0m in \u001b[0;36m<module>\u001b[0;34m()\u001b[0m\n\u001b[1;32m      5\u001b[0m \u001b[0mget_ipython\u001b[0m\u001b[0;34m(\u001b[0m\u001b[0;34m)\u001b[0m\u001b[0;34m.\u001b[0m\u001b[0mrun_line_magic\u001b[0m\u001b[0;34m(\u001b[0m\u001b[0;34m'matplotlib'\u001b[0m\u001b[0;34m,\u001b[0m \u001b[0;34m'inline'\u001b[0m\u001b[0;34m)\u001b[0m\u001b[0;34m\u001b[0m\u001b[0m\n\u001b[1;32m      6\u001b[0m \u001b[0;34m\u001b[0m\u001b[0m\n\u001b[0;32m----> 7\u001b[0;31m \u001b[0;32mimport\u001b[0m \u001b[0mpints\u001b[0m\u001b[0;34m\u001b[0m\u001b[0m\n\u001b[0m\u001b[1;32m      8\u001b[0m \u001b[0;34m\u001b[0m\u001b[0m\n\u001b[1;32m      9\u001b[0m \u001b[0;32mclass\u001b[0m \u001b[0mLinearModel\u001b[0m\u001b[0;34m(\u001b[0m\u001b[0mpints\u001b[0m\u001b[0;34m.\u001b[0m\u001b[0mForwardModel\u001b[0m\u001b[0;34m)\u001b[0m\u001b[0;34m:\u001b[0m\u001b[0;34m\u001b[0m\u001b[0m\n",
      "\u001b[0;31mModuleNotFoundError\u001b[0m: No module named 'pints'"
     ]
    }
   ],
   "source": [
    "from __future__ import print_function\n",
    "import numpy as np\n",
    "import matplotlib.pyplot as plt\n",
    "from scipy.integrate import odeint\n",
    "% matplotlib inline\n",
    "\n",
    "import pints\n",
    "\n",
    "class LinearModel(pints.ForwardModel):\n",
    "    \n",
    "    def simulate(self, parameters, times):\n",
    "        a = parameters[0]\n",
    "        m = parameters[1]\n",
    "        y = a*times + m\n",
    "        return y.reshape(times.shape)\n",
    "    \n",
    "    def n_parameters(self):\n",
    "        # Return the dimension of the parameter vector\n",
    "        return 2\n",
    "\n",
    "\n",
    "# Then create an instance of our new model class\n",
    "model = LinearModel()\n"
   ]
  },
  {
   "cell_type": "code",
   "execution_count": null,
   "metadata": {},
   "outputs": [],
   "source": [
    "true_parameters = [2., 3.]\n",
    "times = np.arange(1, 20)\n",
    "# Run a simulation to get test data\n",
    "values = model.simulate(true_parameters, times)\n",
    "\n",
    "# Add some noise\n",
    "values += np.random.normal(0., 1., values.shape)\n",
    "\n",
    "# Plot the results\n",
    "plt.figure()\n",
    "plt.xlabel('Time')\n",
    "plt.ylabel('Concentration')\n",
    "plt.plot(times, values)\n",
    "plt.show()"
   ]
  },
  {
   "cell_type": "code",
   "execution_count": null,
   "metadata": {},
   "outputs": [],
   "source": [
    "problem = pints.SingleOutputProblem(model, times, values)"
   ]
  },
  {
   "cell_type": "code",
   "execution_count": null,
   "metadata": {},
   "outputs": [],
   "source": [
    "class tiLogLikelihood(pints.ProblemLogLikelihood):\n",
    "    def __init__(self, problem, sigma, temperature):\n",
    "        super(tiLogLikelihood, self).__init__(problem)\n",
    "\n",
    "        self._no = problem.n_outputs()\n",
    "        self._np = problem.n_parameters()\n",
    "        self._nt = problem.n_times()\n",
    "        self.temperature = temperature\n",
    "        #self._n_parameters = problem.n_parameters()\n",
    "\n",
    "        if np.isscalar(sigma):\n",
    "            self.sigma = np.ones(self._no) * float(sigma)\n",
    "        else:\n",
    "            self.sigma = pints.vector(sigma)\n",
    "            if len(sigma) != self._no:\n",
    "                raise ValueError(\n",
    "                    'Sigma must be a scalar or a vector of length n_outputs.')\n",
    "        if np.any(self.sigma <= 0):\n",
    "            raise ValueError('Standard deviation must be greater than zero.')\n",
    "\n",
    "        self._offset = -0.5 * self._nt * np.log(2 * np.pi)\n",
    "        self._offset -= self._nt * np.log(sigma)\n",
    "        self._multip = -1 / (2.0 * sigma**2)        \n",
    "    def __call__(self, x):\n",
    "        \n",
    "        error = self._values - self._problem.evaluate(x)\n",
    "        return self.temperature * np.sum(self._offset + self._multip * np.sum(error**2, axis=0))"
   ]
  },
  {
   "cell_type": "code",
   "execution_count": null,
   "metadata": {},
   "outputs": [],
   "source": [
    "sigma_noise = 1.\n",
    "log_prior_a = pints.NormalLogPrior(2.,1.)\n",
    "log_prior_b = pints.NormalLogPrior(3.,1.)\n",
    "log_prior = pints.ComposedLogPrior(log_prior_a,log_prior_b)"
   ]
  },
  {
   "cell_type": "code",
   "execution_count": null,
   "metadata": {},
   "outputs": [],
   "source": [
    "import mcmcsampling\n",
    "from joblib import Parallel, delayed\n",
    "import multiprocessing\n",
    "niter = 10000\n",
    "def mcmc_runner(temps):\n",
    "\n",
    "    nchains = 1\n",
    "    #print('temperature', temps)\n",
    "    tempered_log_likelihood = tiLogLikelihood(problem, sigma_noise, temps)\n",
    "    tempered_log_posterior = pints.LogPosterior(tempered_log_likelihood, log_prior)\n",
    "    xs = log_prior.sample(1)\n",
    "    mcmc = mcmcsampling.MCMCSampling(tempered_log_posterior, nchains, xs,\n",
    "                                        method=pints.MetropolisRandomWalkMCMC)\n",
    "    #mcmc.set_log_to_file('log.txt')\n",
    "    mcmc.set_log_to_screen(False)\n",
    "    mcmc.set_max_iterations(niter)\n",
    "    mcmc.set_parallel(False)\n",
    "    chains, LL = mcmc.run(returnLL=True)\n",
    "    return chains, LL\n",
    "\n",
    "temperature = np.hstack((np.logspace(-20,-1.59,50)**5,np.linspace(0.2,1,50)**5))\n",
    "#np.sort(np.hstack((np.linspace(0,0.1,9),np.linspace(0,0.01,9),np.linspace(0,1,11))))#np.linspace(0.001,1,40)**5#np.unique\n",
    "\n",
    "with np.errstate(all='ignore'):  # Tell numpy not to issue warnings\n",
    "    \n",
    "    num_cores = multiprocessing.cpu_count()\n",
    "     \n",
    "    results = Parallel(n_jobs=num_cores-2)(delayed(mcmc_runner)(t) for t in temperature)\n"
   ]
  },
  {
   "cell_type": "code",
   "execution_count": null,
   "metadata": {},
   "outputs": [],
   "source": [
    "burnin = niter/2\n",
    "\n",
    "param_chains = np.reshape(results[len(temperature)-1][0][:,burnin:,:],(burnin,2))\n",
    "tempered_LLs = np.array([results[i][1] for i in range(len(temperature))]).reshape((len(temperature),niter))\n",
    "tempered_LLs = tempered_LLs[:,burnin:].T\n",
    "plt.scatter(param_chains[:,0],param_chains[:,1])"
   ]
  },
  {
   "cell_type": "code",
   "execution_count": null,
   "metadata": {},
   "outputs": [],
   "source": [
    "def thermo_int(LLs):\n",
    "\n",
    "    ti=temperature\n",
    "    Eloglike = np.mean(LLs,axis=0)# E_theta|y,t log[p(y|theta)], integrand for I1\n",
    "    I_MC = 0\n",
    "    for i in xrange(len(ti)-1):\n",
    "        I_MC += ((Eloglike[i] + Eloglike[i+1])/2 )* (ti[i+1]-ti[i])  \n",
    "    return np.exp(I_MC), Eloglike"
   ]
  },
  {
   "cell_type": "code",
   "execution_count": null,
   "metadata": {},
   "outputs": [],
   "source": [
    "estimated_marginal_likelihood , yks = thermo_int(tempered_LLs)\n",
    "plt.plot(temperature,np.exp(yks))"
   ]
  },
  {
   "cell_type": "code",
   "execution_count": null,
   "metadata": {},
   "outputs": [],
   "source": [
    "import scipy.stats as stats\n",
    "H=np.vstack((times,np.ones(len(times)))).T\n",
    "Cyy = H.dot(np.diag([1.,1])).dot(H.T)\n",
    "R = np.diag(np.ones(len(times)))\n",
    "cov=Cyy + R\n",
    "mean = H.dot(np.array([2.,3.]))\n",
    "v=model.simulate(true_parameters, times)\n",
    "vv=H.dot(np.array([2.,3.]))\n",
    "np.testing.assert_array_equal(v,vv)\n",
    "true_marginal_likelihood = stats.multivariate_normal.pdf(values,mean,cov)\n",
    "print('Estimated Marginal likelihood for model is:', estimated_marginal_likelihood)\n",
    "print('True Marginal likelihood for model is:', true_marginal_likelihood)"
   ]
  }
 ],
 "metadata": {
  "kernelspec": {
   "display_name": "Python 2",
   "language": "python",
   "name": "python2"
  },
  "language_info": {
   "codemirror_mode": {
    "name": "ipython",
    "version": 3
   },
   "file_extension": ".py",
   "mimetype": "text/x-python",
   "name": "python",
   "nbconvert_exporter": "python",
   "pygments_lexer": "ipython3",
   "version": "3.6.4"
  }
 },
 "nbformat": 4,
 "nbformat_minor": 2
}
